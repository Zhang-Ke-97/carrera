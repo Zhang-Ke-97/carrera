{
 "cells": [
  {
   "cell_type": "markdown",
   "source": [
    "# Carrera: Training and Evaluating"
   ],
   "metadata": {}
  },
  {
   "cell_type": "code",
   "execution_count": null,
   "source": [
    "import tensorflow as tf\n",
    "import pandas\n",
    "import numpy as np\n",
    "np.set_printoptions(precision=4, suppress=True)\n",
    "import functools"
   ],
   "outputs": [],
   "metadata": {
    "execution": {
     "iopub.execute_input": "2021-09-29T01:25:27.869516Z",
     "iopub.status.busy": "2021-09-29T01:25:27.868893Z",
     "iopub.status.idle": "2021-09-29T01:25:29.296768Z",
     "shell.execute_reply": "2021-09-29T01:25:29.297249Z"
    },
    "id": "0trJmd6DjqBZ"
   }
  },
  {
   "cell_type": "markdown",
   "source": [
    "## Load training data"
   ],
   "metadata": {}
  },
  {
   "cell_type": "code",
   "execution_count": null,
   "source": [
    "train_data = pd.read_csv(\"train.csv\", names=[\"accel x\", \"accel y\", \"accel z\", \"velocity tg\", \"mileage tg\", \"motor input\"])\n",
    "train_data.head()\n"
   ],
   "outputs": [],
   "metadata": {}
  },
  {
   "cell_type": "markdown",
   "source": [
    "## Load test data (for evaluation)"
   ],
   "metadata": {}
  },
  {
   "cell_type": "code",
   "execution_count": null,
   "source": [
    "test_data = pd.read_csv(\"train.csv\", names=[\"Ax\", \"Ay\", \"Az\", \"V_tg\", \"X_tg\", \"u\"])\n",
    "test_data.head()\n"
   ],
   "outputs": [],
   "metadata": {}
  },
  {
   "cell_type": "markdown",
   "source": [
    "## Define features and lables from traing data\n",
    "The features are Ax, Ay, Az, V_tg, X_tg"
   ],
   "metadata": {}
  },
  {
   "cell_type": "code",
   "execution_count": null,
   "source": [
    "features = train.copy()\n",
    "labels = features.pop('u')\n",
    "features = np.array(features)"
   ],
   "outputs": [],
   "metadata": {
    "execution": {
     "iopub.execute_input": "2021-09-29T01:25:29.302052Z",
     "iopub.status.busy": "2021-09-29T01:25:29.301349Z",
     "iopub.status.idle": "2021-09-29T01:25:29.872003Z",
     "shell.execute_reply": "2021-09-29T01:25:29.872410Z"
    },
    "id": "7FP5258xjs-v"
   }
  },
  {
   "cell_type": "markdown",
   "source": [
    "## Define the model."
   ],
   "metadata": {
    "id": "BPZ68wASog_I"
   }
  },
  {
   "cell_type": "code",
   "execution_count": null,
   "source": [
    "model = Sequential()\n",
    "\n",
    "model.add(Dense(20,activation='relu',input_dim=5))\n",
    "model.add(BatchNormalization())\n",
    "model.add(Dropout(0.5))\n",
    "\n",
    "model.add(Dense(30,activation='relu'))\n",
    "model.add(BatchNormalization())\n",
    "model.add(Dropout(0.5))\n",
    "\n",
    "model.add(Dense(20,activation='relu'))\n",
    "model.add(BatchNormalization())\n",
    "model.add(Dropout(0.5))\n",
    "\n",
    "model.add(Dense(1)) \n",
    "model.add(BatchNormalization())\n",
    "\n",
    "model.compile(optimizer = 'adam', loss='mean_squared_error', metrics=['mean_squared_error'])"
   ],
   "outputs": [],
   "metadata": {
    "execution": {
     "iopub.execute_input": "2021-09-29T01:25:29.878675Z",
     "iopub.status.busy": "2021-09-29T01:25:29.877197Z",
     "iopub.status.idle": "2021-09-29T01:25:31.436552Z",
     "shell.execute_reply": "2021-09-29T01:25:31.436998Z"
    },
    "id": "h3IKyzTCDNGo"
   }
  },
  {
   "cell_type": "markdown",
   "source": [
    "## Fit and evaluate the model"
   ],
   "metadata": {
    "id": "ix4mEL65on-w"
   }
  },
  {
   "cell_type": "code",
   "execution_count": null,
   "source": [
    "model.fit(features, labels, epochs=20)\n",
    "test_loss, test_accuracy = model.evaluate(test_data)"
   ],
   "outputs": [],
   "metadata": {
    "execution": {
     "iopub.execute_input": "2021-09-29T01:25:31.882554Z",
     "iopub.status.busy": "2021-09-29T01:25:31.881998Z",
     "iopub.status.idle": "2021-09-29T01:25:47.011597Z",
     "shell.execute_reply": "2021-09-29T01:25:47.011936Z"
    },
    "id": "y7suUbJXVLqP"
   }
  },
  {
   "cell_type": "markdown",
   "source": [
    "## Make predictions for new data"
   ],
   "metadata": {
    "id": "Aj8NrlzlJqDG"
   }
  },
  {
   "cell_type": "code",
   "execution_count": null,
   "source": [
    "#predictions = model.predict(new_data)\n"
   ],
   "outputs": [],
   "metadata": {
    "execution": {
     "iopub.execute_input": "2021-09-29T01:25:47.558495Z",
     "iopub.status.busy": "2021-09-29T01:25:47.557953Z",
     "iopub.status.idle": "2021-09-29T01:25:47.571931Z",
     "shell.execute_reply": "2021-09-29T01:25:47.572298Z"
    },
    "id": "rYb6DrEH0GMv"
   }
  }
 ],
 "metadata": {
  "colab": {
   "collapsed_sections": [
    "rX8mhOLljYeM"
   ],
   "name": "beginner.ipynb",
   "toc_visible": true
  },
  "kernelspec": {
   "display_name": "Python 3",
   "name": "python3"
  },
  "language_info": {
   "codemirror_mode": {
    "name": "ipython",
    "version": 3
   },
   "file_extension": ".py",
   "mimetype": "text/x-python",
   "name": "python",
   "nbconvert_exporter": "python",
   "pygments_lexer": "ipython3",
   "version": "3.7.5"
  }
 },
 "nbformat": 4,
 "nbformat_minor": 2
}